{
 "cells": [
  {
   "cell_type": "markdown",
   "metadata": {},
   "source": []
  },
  {
   "cell_type": "markdown",
   "metadata": {
    "vscode": {
     "languageId": "plaintext"
    }
   },
   "source": [
    "# Topics covered :"
   ]
  },
  {
   "cell_type": "code",
   "execution_count": null,
   "metadata": {
    "vscode": {
     "languageId": "plaintext"
    }
   },
   "outputs": [],
   "source": [
    "virtual env\n",
    "Django install\n",
    "Html crud template\n",
    "App\n",
    "Models\n",
    "SuperUSer\n",
    "Admin\n",
    "Database Collection\n",
    "CRUD by form"
   ]
  },
  {
   "cell_type": "code",
   "execution_count": null,
   "metadata": {
    "vscode": {
     "languageId": "plaintext"
    }
   },
   "outputs": [],
   "source": [
    "#Install libraries in python environment\n",
    "pip install Django\n",
    "\n",
    "\n",
    "#Django commands:\n",
    "django-admin startproject school\n",
    "py manage.py runserver\n",
    "cd school\n",
    "py manage.py runserver #now aplication will start in localhost:8000\n",
    "\n"
   ]
  },
  {
   "cell_type": "code",
   "execution_count": null,
   "metadata": {
    "vscode": {
     "languageId": "plaintext"
    }
   },
   "outputs": [],
   "source": [
    "#now:\n",
    "type in google :\n",
    "click this below link\n",
    "\n",
    "https://codepen.io/gdubard/pen/OJXvmPp\n",
    "\n"
   ]
  },
  {
   "cell_type": "markdown",
   "metadata": {},
   "source": [
    "# Django install\n"
   ]
  },
  {
   "cell_type": "code",
   "execution_count": null,
   "metadata": {
    "vscode": {
     "languageId": "plaintext"
    }
   },
   "outputs": [],
   "source": [
    "#proroject commands :\n",
    "django-admin startproject school\n",
    "cd school\n",
    "py manage.py runserver\n"
   ]
  },
  {
   "cell_type": "markdown",
   "metadata": {},
   "source": [
    "# Html crud template\n"
   ]
  },
  {
   "cell_type": "code",
   "execution_count": null,
   "metadata": {
    "vscode": {
     "languageId": "plaintext"
    }
   },
   "outputs": [],
   "source": [
    "#template inheritence:\n",
    "\n",
    "type this in google:\n",
    "bootstrap html crud template\n",
    "click on : codePen\n",
    "https://codepen.io/gdubard/pen/OJXvmPp\n"
   ]
  },
  {
   "cell_type": "code",
   "execution_count": null,
   "metadata": {
    "vscode": {
     "languageId": "plaintext"
    }
   },
   "outputs": [],
   "source": [
    "create templates folder in project\n",
    "#copy html code from above codePen\n",
    "and paste templates/index.html\n",
    "\n",
    "now register templates in settings.py/TEMPLATES = 'DIR'S : ['templates]\n"
   ]
  },
  {
   "cell_type": "code",
   "execution_count": null,
   "metadata": {
    "vscode": {
     "languageId": "plaintext"
    }
   },
   "outputs": [],
   "source": [
    "#now : we have to render the index.html\n",
    "\n",
    "#create views.py in school\n",
    "\n",
    "#view.py:\n"
   ]
  }
 ],
 "metadata": {
  "language_info": {
   "name": "python"
  }
 },
 "nbformat": 4,
 "nbformat_minor": 2
}
