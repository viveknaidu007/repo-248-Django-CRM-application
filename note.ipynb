{
 "cells": [
  {
   "cell_type": "markdown",
   "metadata": {},
   "source": []
  },
  {
   "cell_type": "markdown",
   "metadata": {
    "vscode": {
     "languageId": "plaintext"
    }
   },
   "source": [
    "# Topics covered :"
   ]
  },
  {
   "cell_type": "code",
   "execution_count": null,
   "metadata": {
    "vscode": {
     "languageId": "plaintext"
    }
   },
   "outputs": [],
   "source": [
    "virtual env\n",
    "Django install\n",
    "Html crud template\n",
    "App\n",
    "Models\n",
    "SuperUSer\n",
    "Admin\n",
    "Database Collection\n",
    "CRUD by form"
   ]
  },
  {
   "cell_type": "code",
   "execution_count": null,
   "metadata": {
    "vscode": {
     "languageId": "plaintext"
    }
   },
   "outputs": [],
   "source": [
    "#Install libraries in python environment\n",
    "pip install Django\n",
    "\n",
    "\n",
    "#Django commands:\n",
    "django-admin startproject school\n",
    "py manage.py runserver\n",
    "cd school\n",
    "py manage.py runserver #now aplication will start in localhost:8000\n",
    "\n"
   ]
  },
  {
   "cell_type": "code",
   "execution_count": null,
   "metadata": {
    "vscode": {
     "languageId": "plaintext"
    }
   },
   "outputs": [],
   "source": [
    "#now:\n",
    "type in google :\n",
    "click this below link\n",
    "\n",
    "https://codepen.io/gdubard/pen/OJXvmPp\n",
    "\n"
   ]
  },
  {
   "cell_type": "markdown",
   "metadata": {},
   "source": [
    "# Django install\n"
   ]
  },
  {
   "cell_type": "code",
   "execution_count": null,
   "metadata": {
    "vscode": {
     "languageId": "plaintext"
    }
   },
   "outputs": [],
   "source": [
    "#proroject commands :\n",
    "django-admin startproject school\n",
    "cd school\n",
    "py manage.py runserver\n"
   ]
  },
  {
   "cell_type": "markdown",
   "metadata": {},
   "source": [
    "# Html crud template\n"
   ]
  },
  {
   "cell_type": "code",
   "execution_count": null,
   "metadata": {
    "vscode": {
     "languageId": "plaintext"
    }
   },
   "outputs": [],
   "source": [
    "#template inheritence:\n",
    "\n",
    "type this in google:\n",
    "bootstrap html crud template\n",
    "click on : codePen\n",
    "https://codepen.io/gdubard/pen/OJXvmPp\n"
   ]
  },
  {
   "cell_type": "code",
   "execution_count": null,
   "metadata": {
    "vscode": {
     "languageId": "plaintext"
    }
   },
   "outputs": [],
   "source": [
    "create templates folder in project\n",
    "#copy html code from above codePen\n",
    "and paste templates/index.html\n",
    "\n",
    "now register templates in settings.py/TEMPLATES = 'DIR'S : ['templates]\n"
   ]
  },
  {
   "cell_type": "code",
   "execution_count": null,
   "metadata": {
    "vscode": {
     "languageId": "plaintext"
    }
   },
   "outputs": [],
   "source": [
    "#now : we have to render the index.html\n",
    "\n",
    "#create views.py in school\n",
    "\n",
    "#view.py:\n",
    "from django.shortcuts import render\n",
    "\n",
    "def landing(request):\n",
    "    return render(requestm \"index.html\")\n",
    "\n",
    "\n",
    "#now we have to create route for this index.html:\n",
    "school/school/urls.py:\n",
    "\n",
    "#create static folder and add css and etc for styling\n",
    "\n",
    "#now we have to configure this static folder in setings.py in child fodler\n",
    "school/school/settings.py\n",
    "\n",
    "#\n",
    "-from:\n",
    "STATIC_URL = \"static/\"\n",
    "\n",
    "-to:\n",
    "STATIC_URL = \"static/\"\n",
    "STATICFILES_DIRS = [\n",
    "    BASE_DIR / \"static\",\n",
    "]\n",
    "\n",
    "\n",
    "\n",
    "#link this styles, add this line\n",
    "-templates/index.html\n",
    "<link rel=\"stylesheet\" href=\"/static/css/styles.css\">\n"
   ]
  },
  {
   "cell_type": "markdown",
   "metadata": {},
   "source": [
    "# App"
   ]
  },
  {
   "cell_type": "code",
   "execution_count": null,
   "metadata": {
    "vscode": {
     "languageId": "plaintext"
    }
   },
   "outputs": [],
   "source": [
    "inside school:\n",
    "python manage.py start-app teachers\n",
    "\n",
    "#register app in settings.py\n",
    "\n",
    "#create header.html\n",
    "create styles in .css for this html\n",
    "\n"
   ]
  },
  {
   "cell_type": "markdown",
   "metadata": {},
   "source": [
    "# Models"
   ]
  },
  {
   "cell_type": "code",
   "execution_count": null,
   "metadata": {
    "vscode": {
     "languageId": "plaintext"
    }
   },
   "outputs": [],
   "source": [
    "#create ur model in teachers app:\n",
    "teachers/models.py:\n",
    "create ur models here\n",
    "\n",
    "\n",
    "#now register this modelc class:\n",
    "teachers/admin.py"
   ]
  },
  {
   "cell_type": "code",
   "execution_count": null,
   "metadata": {
    "vscode": {
     "languageId": "plaintext"
    }
   },
   "outputs": [],
   "source": [
    "#now settings.py:\n",
    "\n",
    "https://docs.djangoproject.com/en/4.2/howto/static-files/\n",
    "search \"media\" \n",
    "\n",
    "#add this in settings.py:\n",
    "MEDIA_URL = '/media'\n",
    "MEDIA_ROOT = os.path.join(BASE_DIR, 'media')\n"
   ]
  },
  {
   "cell_type": "code",
   "execution_count": null,
   "metadata": {
    "vscode": {
     "languageId": "plaintext"
    }
   },
   "outputs": [],
   "source": [
    "#now add this in school/urls.py:\n",
    "\n",
    "school/urls.py:\n",
    "from django.conf import settings\n",
    "from django.conf.urls.static import static\n",
    "\n",
    "+ static(settings.MEDIA_URL, document_root=settings.MEDIA_ROOT)"
   ]
  },
  {
   "cell_type": "markdown",
   "metadata": {},
   "source": [
    "# Super-user"
   ]
  },
  {
   "cell_type": "code",
   "execution_count": null,
   "metadata": {
    "vscode": {
     "languageId": "plaintext"
    }
   },
   "outputs": [],
   "source": [
    "!pip install Pillow\n",
    "\n",
    "py manage.py makemigartions\n",
    "\n",
    "py manage.py migrate\n",
    "\n",
    "py manage.py createsuperuser\n",
    "\n",
    "localhost:8000/admin\n",
    "\n"
   ]
  },
  {
   "cell_type": "code",
   "execution_count": null,
   "metadata": {
    "vscode": {
     "languageId": "plaintext"
    }
   },
   "outputs": [],
   "source": [
    "#now i created data in super admin , hence i created one data \n",
    "#it was shwoing like this:\n",
    "\n",
    "Teacher object (1)\n",
    "\n",
    "#now:\n",
    "#add this in teachers/models.py , inside class , it will show name subject in admin portal\n",
    "    def __str__(self):\n",
    "        return (f\"{self.name}-{self.subject}\")\n",
    "\n",
    "vivek1-maths"
   ]
  }
 ],
 "metadata": {
  "language_info": {
   "name": "python"
  }
 },
 "nbformat": 4,
 "nbformat_minor": 2
}
